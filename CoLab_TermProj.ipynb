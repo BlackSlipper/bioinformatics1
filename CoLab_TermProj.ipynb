{
  "cells": [
    {
      "cell_type": "markdown",
      "metadata": {
        "id": "view-in-github",
        "colab_type": "text"
      },
      "source": [
        "<a href=\"https://colab.research.google.com/github/BlackSlipper/bioinformatics1/blob/main/CoLab_TermProj.ipynb\" target=\"_parent\"><img src=\"https://colab.research.google.com/assets/colab-badge.svg\" alt=\"Open In Colab\"/></a>"
      ]
    },
    {
      "cell_type": "markdown",
      "metadata": {
        "id": "_SmTogjeMD47"
      },
      "source": [
        "# 생물정보학 및 실습 1 - Term Project용 환경 셋업\n",
        "\n",
        "```\n",
        "생물정보학 및 실습 1\n",
        "\n",
        "이 노트북은 Creative Commons BY-SA 조건으로 재사용 가능합니다.\n",
        "장혜식 <hyeshik@snu.ac.kr>, 서울대학교 생명과학부\n",
        "```\n",
        "\n",
        "이 노트북은 Google Colab을 이용해서 Term Project를 할 수 있도록 환경을 준비해 줍니다. 터미널 사용이 원활하지 않은 상태이고, 데이터를 오랫동안 보관하기 어렵기 때문에 되도록 개인용 컴퓨터에서 [Anaconda](https://www.anaconda.com/)나 [JupyterLab](https://jupyterlab.readthedocs.io/en/stable/) 등을 설치하고 사용하시는 것이 편하지만, 개인용 컴퓨터 사양이 부족한 경우에는 Google CoLab을 사용할 수도 있습니다. 개인용 컴퓨터를 쓸 때는 Windows에서는 [WSL2](https://docs.microsoft.com/en-us/windows/wsl/install-win10)를 쓰시면 리눅스 커맨드라인 환경을 쓸 수 있습니다. Google Colab은 창을 닫은 후 90분 후, 또는 창을 처음 열고 12시간 후에 환경을 닫아버리기 때문에 매번 실습할 때마다 새로 셋업이 필요합니다. `Runtime->Run All`을 실행해서 전체를 한 번 실행하시면 준비됩니다. 모든 것이 잘 안 되고 뭔가 꼬인 느낌이 강하게 들 때는 `Runtime->Factory reset runtime`을 누르고 새로 시작하시면 될 수도 있습니다.\n"
      ]
    },
    {
      "cell_type": "markdown",
      "metadata": {
        "id": "zGYjheLcRJS0"
      },
      "source": [
        "## Google Drive 마운트\n",
        "\n",
        "데이터 파일들을 불러오고 저장하기 위해서 Google Drive를 연결합니다. **이번엔 스크립트 파일을 편집해야 하기 때문에 Google Drive 마운트를 하지 않으면 vim등 콘솔에서 쓸 수 있는 에디터를 쓰셔야 합니다.** 화면에 나오는 주소를 눌러서 인증하고 인증 코드를 그 아래에 입력하세요. 그러면 `/contents/drive/MyDrive`에서 자신의 Drive 최상단 폴더가 보입니다."
      ]
    },
    {
      "cell_type": "code",
      "execution_count": 5,
      "metadata": {
        "colab": {
          "base_uri": "https://localhost:8080/"
        },
        "id": "0HgOxANiRHgl",
        "outputId": "dde0d50b-b57d-415f-9b31-5755c16e2465"
      },
      "outputs": [
        {
          "output_type": "stream",
          "name": "stdout",
          "text": [
            "Mounted at /content/drive\n"
          ]
        }
      ],
      "source": [
        "from google.colab import drive\n",
        "drive.mount('/content/drive')"
      ]
    },
    {
      "cell_type": "markdown",
      "metadata": {
        "id": "ra3RB22DWEER"
      },
      "source": [
        "## 실습용 Bioconda 환경 설치하기\n",
        "실습용 프로그램들을 쉽게 설치할 수 있도록 [Bioconda](https://bioconda.github.io/) 환경을 만듭니다. 실행하고 진행상황을 관찰하다가 에러로 보이는 것이 있으면 잘 읽어보고 해결합니다.\n",
        "\n",
        "파이썬 모듈들은 Colab쪽의 파이썬 인터프리터를 바꿀 수 없기 때문에 Conda에 설치하더라도 사용하기 어렵습니다. 파이썬 모듈은 `pip` 명령어로 설치하시면 Colab에서 불러와서 사용할 수 있습니다.\n",
        "\n",
        "환경 초기화에 관련된 스크립트는 [GitHub 프로젝트](https://github.com/hyeshik/colab-biolab)에 있습니다."
      ]
    },
    {
      "cell_type": "code",
      "execution_count": null,
      "metadata": {
        "id": "TTXmNi4hcap3"
      },
      "outputs": [],
      "source": [
        "!git clone https://github.com/hyeshik/colab-biolab.git\n",
        "!cd colab-biolab && bash tools/setup.sh\n",
        "exec(open('colab-biolab/tools/activate_conda.py').read())"
      ]
    },
    {
      "cell_type": "markdown",
      "metadata": {
        "id": "eDfJ0fCzsTTb"
      },
      "source": [
        "설정이 끝났으면, 이제 콘솔을 열어서 터미널로 접속할 수 있는 통로를 열어줍니다."
      ]
    },
    {
      "cell_type": "markdown",
      "metadata": {
        "id": "J2LqGiP_N26s"
      },
      "source": [
        "## Google Drive에 시퀀싱 데이터 다운로드\n",
        "이제 실습 수업에서 필요한 시퀀싱 데이터를 다운로드 받아서 설치합시다. 드라이브 공간만 충분하면 데이터는 계속 저장돼 있기 때문에 한 번만 하시면 됩니다. Colab에서는 작업용 데이터를 Google Drive 폴더 아래의 `binfo-datapack1`에 저장합니다. 실습용 데이터는 `/content/drive/MyDrive/binfo1-datapack1`에 풀리게 됩니다. 첫 번째에는 wget이 접속오류를 내는 경우가 많으니, 접속에러가 발생하면 다시 한 번 실행해 보세요. 1G씩 끊어지지만 자동으로 이어받아집니다."
      ]
    },
    {
      "cell_type": "code",
      "execution_count": null,
      "metadata": {
        "id": "kIN484e7NSxR"
      },
      "outputs": [],
      "source": [
        "!wget -O - --no-check-certificate https://hyeshik.qbio.io/binfo/binfo1-datapack1.tar | tar -C /content/drive/MyDrive -xf -"
      ]
    },
    {
      "cell_type": "markdown",
      "metadata": {
        "id": "lnlM-S70C-tY"
      },
      "source": [
        "받은 데이터의 MD5 체크섬을 확인합니다. 한참 걸립니다. 각 파일들의 원래 체크섬은 다음과 같습니다. 한 번 비교해 보세요.\n",
        "\n",
        "```\n",
        "140aaf30bcb9276cc716f8699f04ddd6  CLIP-35L33G.bam\n",
        "f1b3336ed7e2f97d562dcc71641251bd  CLIP-35L33G.bam.bai\n",
        "328883a73d507eafbf5b60bd6b906201  RNA-control.bam\n",
        "02073818e2f398a73c3b76e5169de1ca  RNA-control.bam.bai\n",
        "b09550d09d6c2a4ce27f0226f426fdb1  RNA-siLin28a.bam\n",
        "fef112c727244060ea62d3f2564a07f6  RNA-siLin28a.bam.bai\n",
        "28bbd0c47d725669340c784f1b772c01  RNA-siLuc.bam\n",
        "43590fdc4d81905c0432e0d1cb8cfd5b  RNA-siLuc.bam.bai\n",
        "5c08a9297307bc83259e658c4474f0cc  RPF-siLin28a.bam\n",
        "a1bb3e29be412dfd7fd8d16b1b1acc4c  RPF-siLin28a.bam.bai\n",
        "f2eebf50943024d0116c9cd3e744c707  RPF-siLuc.bam\n",
        "dc24f69e8f571fc8be30f28ce5b84fcd  RPF-siLuc.bam.bai\n",
        "```"
      ]
    },
    {
      "cell_type": "code",
      "execution_count": 10,
      "metadata": {
        "id": "g8lC_YJRBCPf",
        "colab": {
          "base_uri": "https://localhost:8080/"
        },
        "outputId": "d2e1df05-4f9f-4843-f96b-ef4462d7682f"
      },
      "outputs": [
        {
          "output_type": "stream",
          "name": "stdout",
          "text": [
            "140aaf30bcb9276cc716f8699f04ddd6  drive/MyDrive/binfo1-datapack1/CLIP-35L33G.bam\n",
            "f1b3336ed7e2f97d562dcc71641251bd  drive/MyDrive/binfo1-datapack1/CLIP-35L33G.bam.bai\n",
            "d54d428f5872030c4ffc43058709b896  drive/MyDrive/binfo1-datapack1/gencode.gtf\n",
            "f691d94ca9c72e6feedbfe4561dd5b83  drive/MyDrive/binfo1-datapack1/read-counts.txt\n",
            "7c9528c08ed2f1ae6e2de599db1aa8fb  drive/MyDrive/binfo1-datapack1/read-counts.txt.summary\n",
            "328883a73d507eafbf5b60bd6b906201  drive/MyDrive/binfo1-datapack1/RNA-control.bam\n",
            "02073818e2f398a73c3b76e5169de1ca  drive/MyDrive/binfo1-datapack1/RNA-control.bam.bai\n",
            "b09550d09d6c2a4ce27f0226f426fdb1  drive/MyDrive/binfo1-datapack1/RNA-siLin28a.bam\n",
            "fef112c727244060ea62d3f2564a07f6  drive/MyDrive/binfo1-datapack1/RNA-siLin28a.bam.bai\n",
            "28bbd0c47d725669340c784f1b772c01  drive/MyDrive/binfo1-datapack1/RNA-siLuc.bam\n",
            "43590fdc4d81905c0432e0d1cb8cfd5b  drive/MyDrive/binfo1-datapack1/RNA-siLuc.bam.bai\n",
            "5c08a9297307bc83259e658c4474f0cc  drive/MyDrive/binfo1-datapack1/RPF-siLin28a.bam\n",
            "a1bb3e29be412dfd7fd8d16b1b1acc4c  drive/MyDrive/binfo1-datapack1/RPF-siLin28a.bam.bai\n",
            "f2eebf50943024d0116c9cd3e744c707  drive/MyDrive/binfo1-datapack1/RPF-siLuc.bam\n",
            "dc24f69e8f571fc8be30f28ce5b84fcd  drive/MyDrive/binfo1-datapack1/RPF-siLuc.bam.bai\n"
          ]
        }
      ],
      "source": [
        "!md5sum drive/MyDrive/binfo1-datapack1/*"
      ]
    },
    {
      "cell_type": "markdown",
      "metadata": {
        "id": "kiQ5y4dTD27M"
      },
      "source": [
        "그리고, GENCODE Annotation 데이터도 미리 받아서 저장해 둡니다. 에러가 나면 다시 한 번 실행해 봅니다."
      ]
    },
    {
      "cell_type": "code",
      "execution_count": null,
      "metadata": {
        "id": "Efdd3x8hDMh4"
      },
      "outputs": [],
      "source": [
        "!wget --no-check-certificate -O /content/drive/MyDrive/binfo1-datapack1/gencode.gtf.gz http://ftp.ebi.ac.uk/pub/databases/gencode/Gencode_mouse/release_M27/gencode.vM27.annotation.gtf.gz"
      ]
    },
    {
      "cell_type": "markdown",
      "metadata": {
        "id": "O3rM9ds6EMhB"
      },
      "source": [
        "다루기 쉽도록 Annotation 압축을 풉니다."
      ]
    },
    {
      "cell_type": "code",
      "execution_count": null,
      "metadata": {
        "id": "KNyuSM6PEQvX"
      },
      "outputs": [],
      "source": [
        "!gunzip /content/drive/MyDrive/binfo1-datapack1/gencode.gtf.gz"
      ]
    },
    {
      "cell_type": "code",
      "execution_count": 11,
      "metadata": {
        "id": "PVXzIs5FE3Q4",
        "colab": {
          "base_uri": "https://localhost:8080/"
        },
        "outputId": "75211549-f7a8-4406-9c7c-0d06c83592c0"
      },
      "outputs": [
        {
          "output_type": "stream",
          "name": "stdout",
          "text": [
            "total 7160208\n",
            "-rw------- 1 root root 1370036258 May  2 06:51 CLIP-35L33G.bam\n",
            "-rw------- 1 root root    3118336 May  2 06:51 CLIP-35L33G.bam.bai\n",
            "-rw------- 1 root root  883334756 May  6 04:30 gencode.gtf\n",
            "-rw------- 1 root root   24065406 May  2 07:28 read-counts.txt\n",
            "-rw------- 1 root root        751 May  2 07:28 read-counts.txt.summary\n",
            "-rw------- 1 root root 1003658801 May  2 06:53 RNA-control.bam\n",
            "-rw------- 1 root root    2276104 May  2 06:53 RNA-control.bam.bai\n",
            "-rw------- 1 root root 1260991122 May  2 06:54 RNA-siLin28a.bam\n",
            "-rw------- 1 root root    2710744 May  2 06:54 RNA-siLin28a.bam.bai\n",
            "-rw------- 1 root root  981684502 May  2 06:55 RNA-siLuc.bam\n",
            "-rw------- 1 root root    2606104 May  6  2021 RNA-siLuc.bam.bai\n",
            "-rw------- 1 root root  737352902 May  6  2021 RPF-siLin28a.bam\n",
            "-rw------- 1 root root    2482768 May  6  2021 RPF-siLin28a.bam.bai\n",
            "-rw------- 1 root root 1055123479 May  6  2021 RPF-siLuc.bam\n",
            "-rw------- 1 root root    2605912 May  6  2021 RPF-siLuc.bam.bai\n"
          ]
        }
      ],
      "source": [
        "!ls -al drive/MyDrive/binfo*"
      ]
    },
    {
      "cell_type": "markdown",
      "metadata": {
        "id": "ecEA1PPQUlIK"
      },
      "source": [
        "실습에 필요한 프로그램들 몇 가지를 추가로 설치합니다."
      ]
    },
    {
      "cell_type": "code",
      "execution_count": 3,
      "metadata": {
        "id": "neteyWsWEKBy",
        "colab": {
          "base_uri": "https://localhost:8080/"
        },
        "outputId": "0016d118-89e9-40c8-dcaa-0fe7699cf170"
      },
      "outputs": [
        {
          "output_type": "stream",
          "name": "stdout",
          "text": [
            "/bin/bash: conda: command not found\n"
          ]
        }
      ],
      "source": [
        "!conda install -y subread"
      ]
    },
    {
      "cell_type": "markdown",
      "metadata": {
        "id": "Oe_54MZrEi4y"
      },
      "source": [
        "## Transcript count table 마련하기\n",
        "\n",
        "제공된 alignment와 annotation 파일들을 이용해서 transcript별 read count를 구해봅니다. 실제 연구에서는 multi-mapping 등을 고려해야 하지만, 여기서는 단순화해서 모두 무시합니다. 데이터가 있는 곳으로 이동해서 작업합시다."
      ]
    },
    {
      "cell_type": "code",
      "execution_count": 16,
      "metadata": {
        "id": "IANz6DmLUkA6",
        "colab": {
          "base_uri": "https://localhost:8080/"
        },
        "outputId": "95b5de67-af73-4dff-a45e-9b7c6b160c71"
      },
      "outputs": [
        {
          "output_type": "stream",
          "name": "stdout",
          "text": [
            "/content/drive/MyDrive/binfo1-datapack1\n"
          ]
        }
      ],
      "source": [
        "%cd /content/drive/MyDrive/binfo1-datapack1/"
      ]
    },
    {
      "cell_type": "code",
      "execution_count": null,
      "metadata": {
        "id": "5OrnDxegFAip"
      },
      "outputs": [],
      "source": [
        "!featureCounts -a gencode.gtf -o read-counts.txt *.bam "
      ]
    },
    {
      "cell_type": "markdown",
      "metadata": {
        "id": "b2yJztZvGl9Q"
      },
      "source": [
        "결과를 pandas로 읽어와 봅니다."
      ]
    },
    {
      "cell_type": "code",
      "execution_count": 17,
      "metadata": {
        "id": "BMyNT3ARFAWi",
        "colab": {
          "base_uri": "https://localhost:8080/",
          "height": 319
        },
        "outputId": "25f61e58-1f75-4427-ced7-6d0e202ce16e"
      },
      "outputs": [
        {
          "output_type": "execute_result",
          "data": {
            "text/plain": [
              "                                                     Chr  \\\n",
              "Geneid                                                     \n",
              "ENSMUSG00000102693.2                                chr1   \n",
              "ENSMUSG00000064842.3                                chr1   \n",
              "ENSMUSG00000051951.6  chr1;chr1;chr1;chr1;chr1;chr1;chr1   \n",
              "ENSMUSG00000102851.2                                chr1   \n",
              "ENSMUSG00000103377.2                                chr1   \n",
              "\n",
              "                                                                  Start  \\\n",
              "Geneid                                                                    \n",
              "ENSMUSG00000102693.2                                            3143476   \n",
              "ENSMUSG00000064842.3                                            3172239   \n",
              "ENSMUSG00000051951.6  3276124;3276746;3283662;3283832;3284705;349192...   \n",
              "ENSMUSG00000102851.2                                            3322980   \n",
              "ENSMUSG00000103377.2                                            3435954   \n",
              "\n",
              "                                                                    End  \\\n",
              "Geneid                                                                    \n",
              "ENSMUSG00000102693.2                                            3144545   \n",
              "ENSMUSG00000064842.3                                            3172348   \n",
              "ENSMUSG00000051951.6  3277540;3277540;3285855;3286567;3287191;349212...   \n",
              "ENSMUSG00000102851.2                                            3323459   \n",
              "ENSMUSG00000103377.2                                            3438772   \n",
              "\n",
              "                             Strand  Length  CLIP-35L33G.bam  RNA-control.bam  \\\n",
              "Geneid                                                                          \n",
              "ENSMUSG00000102693.2              +    1070                0                0   \n",
              "ENSMUSG00000064842.3              +     110                0                0   \n",
              "ENSMUSG00000051951.6  -;-;-;-;-;-;-    6094                4                1   \n",
              "ENSMUSG00000102851.2              +     480                3                0   \n",
              "ENSMUSG00000103377.2              -    2819                0                0   \n",
              "\n",
              "                      RNA-siLin28a.bam  RNA-siLuc.bam  RPF-siLin28a.bam  \\\n",
              "Geneid                                                                    \n",
              "ENSMUSG00000102693.2                 0              0                 0   \n",
              "ENSMUSG00000064842.3                 0              0                 0   \n",
              "ENSMUSG00000051951.6                 1              1                 0   \n",
              "ENSMUSG00000102851.2                 0              0                 0   \n",
              "ENSMUSG00000103377.2                 0              0                 0   \n",
              "\n",
              "                      RPF-siLuc.bam  \n",
              "Geneid                               \n",
              "ENSMUSG00000102693.2              0  \n",
              "ENSMUSG00000064842.3              0  \n",
              "ENSMUSG00000051951.6              0  \n",
              "ENSMUSG00000102851.2              0  \n",
              "ENSMUSG00000103377.2              0  "
            ],
            "text/html": [
              "\n",
              "  <div id=\"df-3021962a-d16b-4ef5-b1a2-92bb4c15c2b2\">\n",
              "    <div class=\"colab-df-container\">\n",
              "      <div>\n",
              "<style scoped>\n",
              "    .dataframe tbody tr th:only-of-type {\n",
              "        vertical-align: middle;\n",
              "    }\n",
              "\n",
              "    .dataframe tbody tr th {\n",
              "        vertical-align: top;\n",
              "    }\n",
              "\n",
              "    .dataframe thead th {\n",
              "        text-align: right;\n",
              "    }\n",
              "</style>\n",
              "<table border=\"1\" class=\"dataframe\">\n",
              "  <thead>\n",
              "    <tr style=\"text-align: right;\">\n",
              "      <th></th>\n",
              "      <th>Chr</th>\n",
              "      <th>Start</th>\n",
              "      <th>End</th>\n",
              "      <th>Strand</th>\n",
              "      <th>Length</th>\n",
              "      <th>CLIP-35L33G.bam</th>\n",
              "      <th>RNA-control.bam</th>\n",
              "      <th>RNA-siLin28a.bam</th>\n",
              "      <th>RNA-siLuc.bam</th>\n",
              "      <th>RPF-siLin28a.bam</th>\n",
              "      <th>RPF-siLuc.bam</th>\n",
              "    </tr>\n",
              "    <tr>\n",
              "      <th>Geneid</th>\n",
              "      <th></th>\n",
              "      <th></th>\n",
              "      <th></th>\n",
              "      <th></th>\n",
              "      <th></th>\n",
              "      <th></th>\n",
              "      <th></th>\n",
              "      <th></th>\n",
              "      <th></th>\n",
              "      <th></th>\n",
              "      <th></th>\n",
              "    </tr>\n",
              "  </thead>\n",
              "  <tbody>\n",
              "    <tr>\n",
              "      <th>ENSMUSG00000102693.2</th>\n",
              "      <td>chr1</td>\n",
              "      <td>3143476</td>\n",
              "      <td>3144545</td>\n",
              "      <td>+</td>\n",
              "      <td>1070</td>\n",
              "      <td>0</td>\n",
              "      <td>0</td>\n",
              "      <td>0</td>\n",
              "      <td>0</td>\n",
              "      <td>0</td>\n",
              "      <td>0</td>\n",
              "    </tr>\n",
              "    <tr>\n",
              "      <th>ENSMUSG00000064842.3</th>\n",
              "      <td>chr1</td>\n",
              "      <td>3172239</td>\n",
              "      <td>3172348</td>\n",
              "      <td>+</td>\n",
              "      <td>110</td>\n",
              "      <td>0</td>\n",
              "      <td>0</td>\n",
              "      <td>0</td>\n",
              "      <td>0</td>\n",
              "      <td>0</td>\n",
              "      <td>0</td>\n",
              "    </tr>\n",
              "    <tr>\n",
              "      <th>ENSMUSG00000051951.6</th>\n",
              "      <td>chr1;chr1;chr1;chr1;chr1;chr1;chr1</td>\n",
              "      <td>3276124;3276746;3283662;3283832;3284705;349192...</td>\n",
              "      <td>3277540;3277540;3285855;3286567;3287191;349212...</td>\n",
              "      <td>-;-;-;-;-;-;-</td>\n",
              "      <td>6094</td>\n",
              "      <td>4</td>\n",
              "      <td>1</td>\n",
              "      <td>1</td>\n",
              "      <td>1</td>\n",
              "      <td>0</td>\n",
              "      <td>0</td>\n",
              "    </tr>\n",
              "    <tr>\n",
              "      <th>ENSMUSG00000102851.2</th>\n",
              "      <td>chr1</td>\n",
              "      <td>3322980</td>\n",
              "      <td>3323459</td>\n",
              "      <td>+</td>\n",
              "      <td>480</td>\n",
              "      <td>3</td>\n",
              "      <td>0</td>\n",
              "      <td>0</td>\n",
              "      <td>0</td>\n",
              "      <td>0</td>\n",
              "      <td>0</td>\n",
              "    </tr>\n",
              "    <tr>\n",
              "      <th>ENSMUSG00000103377.2</th>\n",
              "      <td>chr1</td>\n",
              "      <td>3435954</td>\n",
              "      <td>3438772</td>\n",
              "      <td>-</td>\n",
              "      <td>2819</td>\n",
              "      <td>0</td>\n",
              "      <td>0</td>\n",
              "      <td>0</td>\n",
              "      <td>0</td>\n",
              "      <td>0</td>\n",
              "      <td>0</td>\n",
              "    </tr>\n",
              "  </tbody>\n",
              "</table>\n",
              "</div>\n",
              "      <button class=\"colab-df-convert\" onclick=\"convertToInteractive('df-3021962a-d16b-4ef5-b1a2-92bb4c15c2b2')\"\n",
              "              title=\"Convert this dataframe to an interactive table.\"\n",
              "              style=\"display:none;\">\n",
              "        \n",
              "  <svg xmlns=\"http://www.w3.org/2000/svg\" height=\"24px\"viewBox=\"0 0 24 24\"\n",
              "       width=\"24px\">\n",
              "    <path d=\"M0 0h24v24H0V0z\" fill=\"none\"/>\n",
              "    <path d=\"M18.56 5.44l.94 2.06.94-2.06 2.06-.94-2.06-.94-.94-2.06-.94 2.06-2.06.94zm-11 1L8.5 8.5l.94-2.06 2.06-.94-2.06-.94L8.5 2.5l-.94 2.06-2.06.94zm10 10l.94 2.06.94-2.06 2.06-.94-2.06-.94-.94-2.06-.94 2.06-2.06.94z\"/><path d=\"M17.41 7.96l-1.37-1.37c-.4-.4-.92-.59-1.43-.59-.52 0-1.04.2-1.43.59L10.3 9.45l-7.72 7.72c-.78.78-.78 2.05 0 2.83L4 21.41c.39.39.9.59 1.41.59.51 0 1.02-.2 1.41-.59l7.78-7.78 2.81-2.81c.8-.78.8-2.07 0-2.86zM5.41 20L4 18.59l7.72-7.72 1.47 1.35L5.41 20z\"/>\n",
              "  </svg>\n",
              "      </button>\n",
              "      \n",
              "  <style>\n",
              "    .colab-df-container {\n",
              "      display:flex;\n",
              "      flex-wrap:wrap;\n",
              "      gap: 12px;\n",
              "    }\n",
              "\n",
              "    .colab-df-convert {\n",
              "      background-color: #E8F0FE;\n",
              "      border: none;\n",
              "      border-radius: 50%;\n",
              "      cursor: pointer;\n",
              "      display: none;\n",
              "      fill: #1967D2;\n",
              "      height: 32px;\n",
              "      padding: 0 0 0 0;\n",
              "      width: 32px;\n",
              "    }\n",
              "\n",
              "    .colab-df-convert:hover {\n",
              "      background-color: #E2EBFA;\n",
              "      box-shadow: 0px 1px 2px rgba(60, 64, 67, 0.3), 0px 1px 3px 1px rgba(60, 64, 67, 0.15);\n",
              "      fill: #174EA6;\n",
              "    }\n",
              "\n",
              "    [theme=dark] .colab-df-convert {\n",
              "      background-color: #3B4455;\n",
              "      fill: #D2E3FC;\n",
              "    }\n",
              "\n",
              "    [theme=dark] .colab-df-convert:hover {\n",
              "      background-color: #434B5C;\n",
              "      box-shadow: 0px 1px 3px 1px rgba(0, 0, 0, 0.15);\n",
              "      filter: drop-shadow(0px 1px 2px rgba(0, 0, 0, 0.3));\n",
              "      fill: #FFFFFF;\n",
              "    }\n",
              "  </style>\n",
              "\n",
              "      <script>\n",
              "        const buttonEl =\n",
              "          document.querySelector('#df-3021962a-d16b-4ef5-b1a2-92bb4c15c2b2 button.colab-df-convert');\n",
              "        buttonEl.style.display =\n",
              "          google.colab.kernel.accessAllowed ? 'block' : 'none';\n",
              "\n",
              "        async function convertToInteractive(key) {\n",
              "          const element = document.querySelector('#df-3021962a-d16b-4ef5-b1a2-92bb4c15c2b2');\n",
              "          const dataTable =\n",
              "            await google.colab.kernel.invokeFunction('convertToInteractive',\n",
              "                                                     [key], {});\n",
              "          if (!dataTable) return;\n",
              "\n",
              "          const docLinkHtml = 'Like what you see? Visit the ' +\n",
              "            '<a target=\"_blank\" href=https://colab.research.google.com/notebooks/data_table.ipynb>data table notebook</a>'\n",
              "            + ' to learn more about interactive tables.';\n",
              "          element.innerHTML = '';\n",
              "          dataTable['output_type'] = 'display_data';\n",
              "          await google.colab.output.renderOutput(dataTable, element);\n",
              "          const docLink = document.createElement('div');\n",
              "          docLink.innerHTML = docLinkHtml;\n",
              "          element.appendChild(docLink);\n",
              "        }\n",
              "      </script>\n",
              "    </div>\n",
              "  </div>\n",
              "  "
            ]
          },
          "metadata": {},
          "execution_count": 17
        }
      ],
      "source": [
        "import pandas as pd\n",
        "cnts = pd.read_csv('read-counts.txt', sep='\\t', comment='#', index_col=0)\n",
        "cnts.head()"
      ]
    },
    {
      "cell_type": "markdown",
      "metadata": {
        "id": "byKCv80ysiNr"
      },
      "source": [
        ""
      ]
    },
    {
      "cell_type": "markdown",
      "metadata": {
        "id": "NyrUZ7WBPAmv"
      },
      "source": [
        "이제 한 번 대충 그림을 그려 봅니다."
      ]
    },
    {
      "cell_type": "code",
      "execution_count": 18,
      "metadata": {
        "id": "YlSZiJgVPAZS",
        "colab": {
          "base_uri": "https://localhost:8080/",
          "height": 319
        },
        "outputId": "519810f6-825d-4402-8251-5e1ff00e22aa"
      },
      "outputs": [
        {
          "output_type": "execute_result",
          "data": {
            "text/plain": [
              "                                                     Chr  \\\n",
              "Geneid                                                     \n",
              "ENSMUSG00000102693.2                                chr1   \n",
              "ENSMUSG00000064842.3                                chr1   \n",
              "ENSMUSG00000051951.6  chr1;chr1;chr1;chr1;chr1;chr1;chr1   \n",
              "ENSMUSG00000102851.2                                chr1   \n",
              "ENSMUSG00000103377.2                                chr1   \n",
              "\n",
              "                                                                  Start  \\\n",
              "Geneid                                                                    \n",
              "ENSMUSG00000102693.2                                            3143476   \n",
              "ENSMUSG00000064842.3                                            3172239   \n",
              "ENSMUSG00000051951.6  3276124;3276746;3283662;3283832;3284705;349192...   \n",
              "ENSMUSG00000102851.2                                            3322980   \n",
              "ENSMUSG00000103377.2                                            3435954   \n",
              "\n",
              "                                                                    End  \\\n",
              "Geneid                                                                    \n",
              "ENSMUSG00000102693.2                                            3144545   \n",
              "ENSMUSG00000064842.3                                            3172348   \n",
              "ENSMUSG00000051951.6  3277540;3277540;3285855;3286567;3287191;349212...   \n",
              "ENSMUSG00000102851.2                                            3323459   \n",
              "ENSMUSG00000103377.2                                            3438772   \n",
              "\n",
              "                             Strand  Length  CLIP-35L33G.bam  RNA-control.bam  \\\n",
              "Geneid                                                                          \n",
              "ENSMUSG00000102693.2              +    1070                0                0   \n",
              "ENSMUSG00000064842.3              +     110                0                0   \n",
              "ENSMUSG00000051951.6  -;-;-;-;-;-;-    6094                4                1   \n",
              "ENSMUSG00000102851.2              +     480                3                0   \n",
              "ENSMUSG00000103377.2              -    2819                0                0   \n",
              "\n",
              "                      RNA-siLin28a.bam  RNA-siLuc.bam  RPF-siLin28a.bam  \\\n",
              "Geneid                                                                    \n",
              "ENSMUSG00000102693.2                 0              0                 0   \n",
              "ENSMUSG00000064842.3                 0              0                 0   \n",
              "ENSMUSG00000051951.6                 1              1                 0   \n",
              "ENSMUSG00000102851.2                 0              0                 0   \n",
              "ENSMUSG00000103377.2                 0              0                 0   \n",
              "\n",
              "                      RPF-siLuc.bam  clip_enrichment  rden_change  \n",
              "Geneid                                                             \n",
              "ENSMUSG00000102693.2              0              NaN          NaN  \n",
              "ENSMUSG00000064842.3              0              NaN          NaN  \n",
              "ENSMUSG00000051951.6              0              4.0          NaN  \n",
              "ENSMUSG00000102851.2              0              inf          NaN  \n",
              "ENSMUSG00000103377.2              0              NaN          NaN  "
            ],
            "text/html": [
              "\n",
              "  <div id=\"df-2abaab13-4ea2-4ac3-8218-852f22332df7\">\n",
              "    <div class=\"colab-df-container\">\n",
              "      <div>\n",
              "<style scoped>\n",
              "    .dataframe tbody tr th:only-of-type {\n",
              "        vertical-align: middle;\n",
              "    }\n",
              "\n",
              "    .dataframe tbody tr th {\n",
              "        vertical-align: top;\n",
              "    }\n",
              "\n",
              "    .dataframe thead th {\n",
              "        text-align: right;\n",
              "    }\n",
              "</style>\n",
              "<table border=\"1\" class=\"dataframe\">\n",
              "  <thead>\n",
              "    <tr style=\"text-align: right;\">\n",
              "      <th></th>\n",
              "      <th>Chr</th>\n",
              "      <th>Start</th>\n",
              "      <th>End</th>\n",
              "      <th>Strand</th>\n",
              "      <th>Length</th>\n",
              "      <th>CLIP-35L33G.bam</th>\n",
              "      <th>RNA-control.bam</th>\n",
              "      <th>RNA-siLin28a.bam</th>\n",
              "      <th>RNA-siLuc.bam</th>\n",
              "      <th>RPF-siLin28a.bam</th>\n",
              "      <th>RPF-siLuc.bam</th>\n",
              "      <th>clip_enrichment</th>\n",
              "      <th>rden_change</th>\n",
              "    </tr>\n",
              "    <tr>\n",
              "      <th>Geneid</th>\n",
              "      <th></th>\n",
              "      <th></th>\n",
              "      <th></th>\n",
              "      <th></th>\n",
              "      <th></th>\n",
              "      <th></th>\n",
              "      <th></th>\n",
              "      <th></th>\n",
              "      <th></th>\n",
              "      <th></th>\n",
              "      <th></th>\n",
              "      <th></th>\n",
              "      <th></th>\n",
              "    </tr>\n",
              "  </thead>\n",
              "  <tbody>\n",
              "    <tr>\n",
              "      <th>ENSMUSG00000102693.2</th>\n",
              "      <td>chr1</td>\n",
              "      <td>3143476</td>\n",
              "      <td>3144545</td>\n",
              "      <td>+</td>\n",
              "      <td>1070</td>\n",
              "      <td>0</td>\n",
              "      <td>0</td>\n",
              "      <td>0</td>\n",
              "      <td>0</td>\n",
              "      <td>0</td>\n",
              "      <td>0</td>\n",
              "      <td>NaN</td>\n",
              "      <td>NaN</td>\n",
              "    </tr>\n",
              "    <tr>\n",
              "      <th>ENSMUSG00000064842.3</th>\n",
              "      <td>chr1</td>\n",
              "      <td>3172239</td>\n",
              "      <td>3172348</td>\n",
              "      <td>+</td>\n",
              "      <td>110</td>\n",
              "      <td>0</td>\n",
              "      <td>0</td>\n",
              "      <td>0</td>\n",
              "      <td>0</td>\n",
              "      <td>0</td>\n",
              "      <td>0</td>\n",
              "      <td>NaN</td>\n",
              "      <td>NaN</td>\n",
              "    </tr>\n",
              "    <tr>\n",
              "      <th>ENSMUSG00000051951.6</th>\n",
              "      <td>chr1;chr1;chr1;chr1;chr1;chr1;chr1</td>\n",
              "      <td>3276124;3276746;3283662;3283832;3284705;349192...</td>\n",
              "      <td>3277540;3277540;3285855;3286567;3287191;349212...</td>\n",
              "      <td>-;-;-;-;-;-;-</td>\n",
              "      <td>6094</td>\n",
              "      <td>4</td>\n",
              "      <td>1</td>\n",
              "      <td>1</td>\n",
              "      <td>1</td>\n",
              "      <td>0</td>\n",
              "      <td>0</td>\n",
              "      <td>4.0</td>\n",
              "      <td>NaN</td>\n",
              "    </tr>\n",
              "    <tr>\n",
              "      <th>ENSMUSG00000102851.2</th>\n",
              "      <td>chr1</td>\n",
              "      <td>3322980</td>\n",
              "      <td>3323459</td>\n",
              "      <td>+</td>\n",
              "      <td>480</td>\n",
              "      <td>3</td>\n",
              "      <td>0</td>\n",
              "      <td>0</td>\n",
              "      <td>0</td>\n",
              "      <td>0</td>\n",
              "      <td>0</td>\n",
              "      <td>inf</td>\n",
              "      <td>NaN</td>\n",
              "    </tr>\n",
              "    <tr>\n",
              "      <th>ENSMUSG00000103377.2</th>\n",
              "      <td>chr1</td>\n",
              "      <td>3435954</td>\n",
              "      <td>3438772</td>\n",
              "      <td>-</td>\n",
              "      <td>2819</td>\n",
              "      <td>0</td>\n",
              "      <td>0</td>\n",
              "      <td>0</td>\n",
              "      <td>0</td>\n",
              "      <td>0</td>\n",
              "      <td>0</td>\n",
              "      <td>NaN</td>\n",
              "      <td>NaN</td>\n",
              "    </tr>\n",
              "  </tbody>\n",
              "</table>\n",
              "</div>\n",
              "      <button class=\"colab-df-convert\" onclick=\"convertToInteractive('df-2abaab13-4ea2-4ac3-8218-852f22332df7')\"\n",
              "              title=\"Convert this dataframe to an interactive table.\"\n",
              "              style=\"display:none;\">\n",
              "        \n",
              "  <svg xmlns=\"http://www.w3.org/2000/svg\" height=\"24px\"viewBox=\"0 0 24 24\"\n",
              "       width=\"24px\">\n",
              "    <path d=\"M0 0h24v24H0V0z\" fill=\"none\"/>\n",
              "    <path d=\"M18.56 5.44l.94 2.06.94-2.06 2.06-.94-2.06-.94-.94-2.06-.94 2.06-2.06.94zm-11 1L8.5 8.5l.94-2.06 2.06-.94-2.06-.94L8.5 2.5l-.94 2.06-2.06.94zm10 10l.94 2.06.94-2.06 2.06-.94-2.06-.94-.94-2.06-.94 2.06-2.06.94z\"/><path d=\"M17.41 7.96l-1.37-1.37c-.4-.4-.92-.59-1.43-.59-.52 0-1.04.2-1.43.59L10.3 9.45l-7.72 7.72c-.78.78-.78 2.05 0 2.83L4 21.41c.39.39.9.59 1.41.59.51 0 1.02-.2 1.41-.59l7.78-7.78 2.81-2.81c.8-.78.8-2.07 0-2.86zM5.41 20L4 18.59l7.72-7.72 1.47 1.35L5.41 20z\"/>\n",
              "  </svg>\n",
              "      </button>\n",
              "      \n",
              "  <style>\n",
              "    .colab-df-container {\n",
              "      display:flex;\n",
              "      flex-wrap:wrap;\n",
              "      gap: 12px;\n",
              "    }\n",
              "\n",
              "    .colab-df-convert {\n",
              "      background-color: #E8F0FE;\n",
              "      border: none;\n",
              "      border-radius: 50%;\n",
              "      cursor: pointer;\n",
              "      display: none;\n",
              "      fill: #1967D2;\n",
              "      height: 32px;\n",
              "      padding: 0 0 0 0;\n",
              "      width: 32px;\n",
              "    }\n",
              "\n",
              "    .colab-df-convert:hover {\n",
              "      background-color: #E2EBFA;\n",
              "      box-shadow: 0px 1px 2px rgba(60, 64, 67, 0.3), 0px 1px 3px 1px rgba(60, 64, 67, 0.15);\n",
              "      fill: #174EA6;\n",
              "    }\n",
              "\n",
              "    [theme=dark] .colab-df-convert {\n",
              "      background-color: #3B4455;\n",
              "      fill: #D2E3FC;\n",
              "    }\n",
              "\n",
              "    [theme=dark] .colab-df-convert:hover {\n",
              "      background-color: #434B5C;\n",
              "      box-shadow: 0px 1px 3px 1px rgba(0, 0, 0, 0.15);\n",
              "      filter: drop-shadow(0px 1px 2px rgba(0, 0, 0, 0.3));\n",
              "      fill: #FFFFFF;\n",
              "    }\n",
              "  </style>\n",
              "\n",
              "      <script>\n",
              "        const buttonEl =\n",
              "          document.querySelector('#df-2abaab13-4ea2-4ac3-8218-852f22332df7 button.colab-df-convert');\n",
              "        buttonEl.style.display =\n",
              "          google.colab.kernel.accessAllowed ? 'block' : 'none';\n",
              "\n",
              "        async function convertToInteractive(key) {\n",
              "          const element = document.querySelector('#df-2abaab13-4ea2-4ac3-8218-852f22332df7');\n",
              "          const dataTable =\n",
              "            await google.colab.kernel.invokeFunction('convertToInteractive',\n",
              "                                                     [key], {});\n",
              "          if (!dataTable) return;\n",
              "\n",
              "          const docLinkHtml = 'Like what you see? Visit the ' +\n",
              "            '<a target=\"_blank\" href=https://colab.research.google.com/notebooks/data_table.ipynb>data table notebook</a>'\n",
              "            + ' to learn more about interactive tables.';\n",
              "          element.innerHTML = '';\n",
              "          dataTable['output_type'] = 'display_data';\n",
              "          await google.colab.output.renderOutput(dataTable, element);\n",
              "          const docLink = document.createElement('div');\n",
              "          docLink.innerHTML = docLinkHtml;\n",
              "          element.appendChild(docLink);\n",
              "        }\n",
              "      </script>\n",
              "    </div>\n",
              "  </div>\n",
              "  "
            ]
          },
          "metadata": {},
          "execution_count": 18
        }
      ],
      "source": [
        "cnts['clip_enrichment'] = cnts['CLIP-35L33G.bam'] / cnts['RNA-control.bam']\n",
        "cnts['rden_change'] = (cnts['RPF-siLin28a.bam'] / cnts['RNA-siLin28a.bam']) / (cnts['RPF-siLuc.bam'] / cnts['RNA-siLuc.bam'])\n",
        "cnts.head()"
      ]
    },
    {
      "cell_type": "code",
      "source": [
        "type(cnts)"
      ],
      "metadata": {
        "colab": {
          "base_uri": "https://localhost:8080/"
        },
        "id": "fkTy4NXTrfd0",
        "outputId": "3d2780e5-2299-41b9-da48-74f5beae338a"
      },
      "execution_count": 22,
      "outputs": [
        {
          "output_type": "execute_result",
          "data": {
            "text/plain": [
              "pandas.core.frame.DataFrame"
            ]
          },
          "metadata": {},
          "execution_count": 22
        }
      ]
    },
    {
      "cell_type": "code",
      "source": [
        "cnts1 = cnts"
      ],
      "metadata": {
        "id": "tmgrJZXxsCwM"
      },
      "execution_count": 32,
      "outputs": []
    },
    {
      "cell_type": "code",
      "source": [
        "cnts1.head()"
      ],
      "metadata": {
        "colab": {
          "base_uri": "https://localhost:8080/",
          "height": 231
        },
        "id": "jiLNHijUsmrd",
        "outputId": "ef7ff11a-8ddc-4142-ffb5-e209428a209b"
      },
      "execution_count": 25,
      "outputs": [
        {
          "output_type": "execute_result",
          "data": {
            "text/plain": [
              "                                                     Chr  \\\n",
              "Geneid                                                     \n",
              "ENSMUSG00000102693.2                                chr1   \n",
              "ENSMUSG00000064842.3                                chr1   \n",
              "ENSMUSG00000051951.6  chr1;chr1;chr1;chr1;chr1;chr1;chr1   \n",
              "ENSMUSG00000102851.2                                chr1   \n",
              "ENSMUSG00000103377.2                                chr1   \n",
              "\n",
              "                                                                  Start  \\\n",
              "Geneid                                                                    \n",
              "ENSMUSG00000102693.2                                            3143476   \n",
              "ENSMUSG00000064842.3                                            3172239   \n",
              "ENSMUSG00000051951.6  3276124;3276746;3283662;3283832;3284705;349192...   \n",
              "ENSMUSG00000102851.2                                            3322980   \n",
              "ENSMUSG00000103377.2                                            3435954   \n",
              "\n",
              "                                                                    End  \\\n",
              "Geneid                                                                    \n",
              "ENSMUSG00000102693.2                                            3144545   \n",
              "ENSMUSG00000064842.3                                            3172348   \n",
              "ENSMUSG00000051951.6  3277540;3277540;3285855;3286567;3287191;349212...   \n",
              "ENSMUSG00000102851.2                                            3323459   \n",
              "ENSMUSG00000103377.2                                            3438772   \n",
              "\n",
              "                             Strand  Length  CLIP-35L33G.bam  RNA-control.bam  \\\n",
              "Geneid                                                                          \n",
              "ENSMUSG00000102693.2              +    1070                0                0   \n",
              "ENSMUSG00000064842.3              +     110                0                0   \n",
              "ENSMUSG00000051951.6  -;-;-;-;-;-;-    6094                4                1   \n",
              "ENSMUSG00000102851.2              +     480                3                0   \n",
              "ENSMUSG00000103377.2              -    2819                0                0   \n",
              "\n",
              "                      RNA-siLin28a.bam  RNA-siLuc.bam  RPF-siLin28a.bam  \\\n",
              "Geneid                                                                    \n",
              "ENSMUSG00000102693.2                 0              0                 0   \n",
              "ENSMUSG00000064842.3                 0              0                 0   \n",
              "ENSMUSG00000051951.6                 1              1                 0   \n",
              "ENSMUSG00000102851.2                 0              0                 0   \n",
              "ENSMUSG00000103377.2                 0              0                 0   \n",
              "\n",
              "                      RPF-siLuc.bam  clip_enrichment  rden_change  \n",
              "Geneid                                                             \n",
              "ENSMUSG00000102693.2              0              NaN          NaN  \n",
              "ENSMUSG00000064842.3              0              NaN          NaN  \n",
              "ENSMUSG00000051951.6              0              4.0          NaN  \n",
              "ENSMUSG00000102851.2              0              inf          NaN  \n",
              "ENSMUSG00000103377.2              0              NaN          NaN  "
            ],
            "text/html": [
              "\n",
              "  <div id=\"df-d208e190-e3e3-44fe-afe5-cf5716c7fdbc\">\n",
              "    <div class=\"colab-df-container\">\n",
              "      <div>\n",
              "<style scoped>\n",
              "    .dataframe tbody tr th:only-of-type {\n",
              "        vertical-align: middle;\n",
              "    }\n",
              "\n",
              "    .dataframe tbody tr th {\n",
              "        vertical-align: top;\n",
              "    }\n",
              "\n",
              "    .dataframe thead th {\n",
              "        text-align: right;\n",
              "    }\n",
              "</style>\n",
              "<table border=\"1\" class=\"dataframe\">\n",
              "  <thead>\n",
              "    <tr style=\"text-align: right;\">\n",
              "      <th></th>\n",
              "      <th>Chr</th>\n",
              "      <th>Start</th>\n",
              "      <th>End</th>\n",
              "      <th>Strand</th>\n",
              "      <th>Length</th>\n",
              "      <th>CLIP-35L33G.bam</th>\n",
              "      <th>RNA-control.bam</th>\n",
              "      <th>RNA-siLin28a.bam</th>\n",
              "      <th>RNA-siLuc.bam</th>\n",
              "      <th>RPF-siLin28a.bam</th>\n",
              "      <th>RPF-siLuc.bam</th>\n",
              "      <th>clip_enrichment</th>\n",
              "      <th>rden_change</th>\n",
              "    </tr>\n",
              "    <tr>\n",
              "      <th>Geneid</th>\n",
              "      <th></th>\n",
              "      <th></th>\n",
              "      <th></th>\n",
              "      <th></th>\n",
              "      <th></th>\n",
              "      <th></th>\n",
              "      <th></th>\n",
              "      <th></th>\n",
              "      <th></th>\n",
              "      <th></th>\n",
              "      <th></th>\n",
              "      <th></th>\n",
              "      <th></th>\n",
              "    </tr>\n",
              "  </thead>\n",
              "  <tbody>\n",
              "    <tr>\n",
              "      <th>ENSMUSG00000102693.2</th>\n",
              "      <td>chr1</td>\n",
              "      <td>3143476</td>\n",
              "      <td>3144545</td>\n",
              "      <td>+</td>\n",
              "      <td>1070</td>\n",
              "      <td>0</td>\n",
              "      <td>0</td>\n",
              "      <td>0</td>\n",
              "      <td>0</td>\n",
              "      <td>0</td>\n",
              "      <td>0</td>\n",
              "      <td>NaN</td>\n",
              "      <td>NaN</td>\n",
              "    </tr>\n",
              "    <tr>\n",
              "      <th>ENSMUSG00000064842.3</th>\n",
              "      <td>chr1</td>\n",
              "      <td>3172239</td>\n",
              "      <td>3172348</td>\n",
              "      <td>+</td>\n",
              "      <td>110</td>\n",
              "      <td>0</td>\n",
              "      <td>0</td>\n",
              "      <td>0</td>\n",
              "      <td>0</td>\n",
              "      <td>0</td>\n",
              "      <td>0</td>\n",
              "      <td>NaN</td>\n",
              "      <td>NaN</td>\n",
              "    </tr>\n",
              "    <tr>\n",
              "      <th>ENSMUSG00000051951.6</th>\n",
              "      <td>chr1;chr1;chr1;chr1;chr1;chr1;chr1</td>\n",
              "      <td>3276124;3276746;3283662;3283832;3284705;349192...</td>\n",
              "      <td>3277540;3277540;3285855;3286567;3287191;349212...</td>\n",
              "      <td>-;-;-;-;-;-;-</td>\n",
              "      <td>6094</td>\n",
              "      <td>4</td>\n",
              "      <td>1</td>\n",
              "      <td>1</td>\n",
              "      <td>1</td>\n",
              "      <td>0</td>\n",
              "      <td>0</td>\n",
              "      <td>4.0</td>\n",
              "      <td>NaN</td>\n",
              "    </tr>\n",
              "    <tr>\n",
              "      <th>ENSMUSG00000102851.2</th>\n",
              "      <td>chr1</td>\n",
              "      <td>3322980</td>\n",
              "      <td>3323459</td>\n",
              "      <td>+</td>\n",
              "      <td>480</td>\n",
              "      <td>3</td>\n",
              "      <td>0</td>\n",
              "      <td>0</td>\n",
              "      <td>0</td>\n",
              "      <td>0</td>\n",
              "      <td>0</td>\n",
              "      <td>inf</td>\n",
              "      <td>NaN</td>\n",
              "    </tr>\n",
              "    <tr>\n",
              "      <th>ENSMUSG00000103377.2</th>\n",
              "      <td>chr1</td>\n",
              "      <td>3435954</td>\n",
              "      <td>3438772</td>\n",
              "      <td>-</td>\n",
              "      <td>2819</td>\n",
              "      <td>0</td>\n",
              "      <td>0</td>\n",
              "      <td>0</td>\n",
              "      <td>0</td>\n",
              "      <td>0</td>\n",
              "      <td>0</td>\n",
              "      <td>NaN</td>\n",
              "      <td>NaN</td>\n",
              "    </tr>\n",
              "  </tbody>\n",
              "</table>\n",
              "</div>\n",
              "      <button class=\"colab-df-convert\" onclick=\"convertToInteractive('df-d208e190-e3e3-44fe-afe5-cf5716c7fdbc')\"\n",
              "              title=\"Convert this dataframe to an interactive table.\"\n",
              "              style=\"display:none;\">\n",
              "        \n",
              "  <svg xmlns=\"http://www.w3.org/2000/svg\" height=\"24px\"viewBox=\"0 0 24 24\"\n",
              "       width=\"24px\">\n",
              "    <path d=\"M0 0h24v24H0V0z\" fill=\"none\"/>\n",
              "    <path d=\"M18.56 5.44l.94 2.06.94-2.06 2.06-.94-2.06-.94-.94-2.06-.94 2.06-2.06.94zm-11 1L8.5 8.5l.94-2.06 2.06-.94-2.06-.94L8.5 2.5l-.94 2.06-2.06.94zm10 10l.94 2.06.94-2.06 2.06-.94-2.06-.94-.94-2.06-.94 2.06-2.06.94z\"/><path d=\"M17.41 7.96l-1.37-1.37c-.4-.4-.92-.59-1.43-.59-.52 0-1.04.2-1.43.59L10.3 9.45l-7.72 7.72c-.78.78-.78 2.05 0 2.83L4 21.41c.39.39.9.59 1.41.59.51 0 1.02-.2 1.41-.59l7.78-7.78 2.81-2.81c.8-.78.8-2.07 0-2.86zM5.41 20L4 18.59l7.72-7.72 1.47 1.35L5.41 20z\"/>\n",
              "  </svg>\n",
              "      </button>\n",
              "      \n",
              "  <style>\n",
              "    .colab-df-container {\n",
              "      display:flex;\n",
              "      flex-wrap:wrap;\n",
              "      gap: 12px;\n",
              "    }\n",
              "\n",
              "    .colab-df-convert {\n",
              "      background-color: #E8F0FE;\n",
              "      border: none;\n",
              "      border-radius: 50%;\n",
              "      cursor: pointer;\n",
              "      display: none;\n",
              "      fill: #1967D2;\n",
              "      height: 32px;\n",
              "      padding: 0 0 0 0;\n",
              "      width: 32px;\n",
              "    }\n",
              "\n",
              "    .colab-df-convert:hover {\n",
              "      background-color: #E2EBFA;\n",
              "      box-shadow: 0px 1px 2px rgba(60, 64, 67, 0.3), 0px 1px 3px 1px rgba(60, 64, 67, 0.15);\n",
              "      fill: #174EA6;\n",
              "    }\n",
              "\n",
              "    [theme=dark] .colab-df-convert {\n",
              "      background-color: #3B4455;\n",
              "      fill: #D2E3FC;\n",
              "    }\n",
              "\n",
              "    [theme=dark] .colab-df-convert:hover {\n",
              "      background-color: #434B5C;\n",
              "      box-shadow: 0px 1px 3px 1px rgba(0, 0, 0, 0.15);\n",
              "      filter: drop-shadow(0px 1px 2px rgba(0, 0, 0, 0.3));\n",
              "      fill: #FFFFFF;\n",
              "    }\n",
              "  </style>\n",
              "\n",
              "      <script>\n",
              "        const buttonEl =\n",
              "          document.querySelector('#df-d208e190-e3e3-44fe-afe5-cf5716c7fdbc button.colab-df-convert');\n",
              "        buttonEl.style.display =\n",
              "          google.colab.kernel.accessAllowed ? 'block' : 'none';\n",
              "\n",
              "        async function convertToInteractive(key) {\n",
              "          const element = document.querySelector('#df-d208e190-e3e3-44fe-afe5-cf5716c7fdbc');\n",
              "          const dataTable =\n",
              "            await google.colab.kernel.invokeFunction('convertToInteractive',\n",
              "                                                     [key], {});\n",
              "          if (!dataTable) return;\n",
              "\n",
              "          const docLinkHtml = 'Like what you see? Visit the ' +\n",
              "            '<a target=\"_blank\" href=https://colab.research.google.com/notebooks/data_table.ipynb>data table notebook</a>'\n",
              "            + ' to learn more about interactive tables.';\n",
              "          element.innerHTML = '';\n",
              "          dataTable['output_type'] = 'display_data';\n",
              "          await google.colab.output.renderOutput(dataTable, element);\n",
              "          const docLink = document.createElement('div');\n",
              "          docLink.innerHTML = docLinkHtml;\n",
              "          element.appendChild(docLink);\n",
              "        }\n",
              "      </script>\n",
              "    </div>\n",
              "  </div>\n",
              "  "
            ]
          },
          "metadata": {},
          "execution_count": 25
        }
      ]
    },
    {
      "cell_type": "code",
      "source": [
        "#NaN 제거\n",
        "cnts1 =cnts1.dropna(axis = 0)\n",
        "#RNA counts >30 이상, RPF coutnt>80이상만 select\n",
        "data =cnts1[(cnts1['CLIP-35L33G.bam']>30)& (cnts1['RNA-control.bam']>30) & (cnts1['RNA-siLin28a.bam']>30) & (cnts1['RNA-siLuc.bam']>30) & (cnts1['RPF-siLin28a.bam']>80) & (cnts1['RPF-siLuc.bam']>30)] \n",
        "data.head()"
      ],
      "metadata": {
        "colab": {
          "base_uri": "https://localhost:8080/",
          "height": 319
        },
        "id": "v__eyssqsUlK",
        "outputId": "c9d66073-a866-489d-ddb4-7895ac986067"
      },
      "execution_count": 55,
      "outputs": [
        {
          "output_type": "execute_result",
          "data": {
            "text/plain": [
              "                                                                     Chr  \\\n",
              "Geneid                                                                     \n",
              "ENSMUSG00000033845.14  chr1;chr1;chr1;chr1;chr1;chr1;chr1;chr1;chr1;c...   \n",
              "ENSMUSG00000033813.16  chr1;chr1;chr1;chr1;chr1;chr1;chr1;chr1;chr1;c...   \n",
              "ENSMUSG00000033793.13  chr1;chr1;chr1;chr1;chr1;chr1;chr1;chr1;chr1;c...   \n",
              "ENSMUSG00000025907.15  chr1;chr1;chr1;chr1;chr1;chr1;chr1;chr1;chr1;c...   \n",
              "ENSMUSG00000051285.18  chr1;chr1;chr1;chr1;chr1;chr1;chr1;chr1;chr1;c...   \n",
              "\n",
              "                                                                   Start  \\\n",
              "Geneid                                                                     \n",
              "ENSMUSG00000033845.14  4843429;4843434;4844659;4846600;4847748;484774...   \n",
              "ENSMUSG00000033813.16  4928037;4928261;4937693;4937693;4948250;494825...   \n",
              "ENSMUSG00000033793.13  5140241;5153303;5153333;5153347;5153355;515335...   \n",
              "ENSMUSG00000025907.15  6276421;6276451;6284869;6284887;6285232;629382...   \n",
              "ENSMUSG00000051285.18  7159144;7159154;7159328;7159390;7190418;721786...   \n",
              "\n",
              "                                                                     End  \\\n",
              "Geneid                                                                     \n",
              "ENSMUSG00000033845.14  4844739;4847024;4844739;4847024;4847871;484787...   \n",
              "ENSMUSG00000033813.16  4928199;4928726;4937755;4937755;4948355;494835...   \n",
              "ENSMUSG00000033793.13  5140367;5153501;5153848;5153501;5153501;515350...   \n",
              "ENSMUSG00000025907.15  6276494;6276494;6285181;6285181;6285476;629396...   \n",
              "ENSMUSG00000051285.18  7159440;7159440;7159440;7159440;7190839;721796...   \n",
              "\n",
              "                                                                  Strand  \\\n",
              "Geneid                                                                     \n",
              "ENSMUSG00000033845.14  -;-;-;-;-;-;-;-;-;-;-;-;-;-;-;-;-;-;-;-;-;-;-;...   \n",
              "ENSMUSG00000033813.16            +;+;+;+;+;+;+;+;+;+;+;+;+;+;+;+;+;+;+;+   \n",
              "ENSMUSG00000033793.13  +;+;+;+;+;+;+;+;+;+;+;+;+;+;+;+;+;+;+;+;+;+;+;...   \n",
              "ENSMUSG00000025907.15  +;+;+;+;+;+;+;+;+;+;+;+;+;+;+;+;+;+;+;+;+;+;+;...   \n",
              "ENSMUSG00000051285.18  +;+;+;+;+;+;+;+;+;+;+;+;+;+;+;+;+;+;+;+;+;+;+;...   \n",
              "\n",
              "                       Length  CLIP-35L33G.bam  RNA-control.bam  \\\n",
              "Geneid                                                            \n",
              "ENSMUSG00000033845.14    8487             4014             1355   \n",
              "ENSMUSG00000033813.16    3017             1658              762   \n",
              "ENSMUSG00000033793.13    9746             1111              474   \n",
              "ENSMUSG00000025907.15   14690             1520              280   \n",
              "ENSMUSG00000051285.18    6654             3508              529   \n",
              "\n",
              "                       RNA-siLin28a.bam  RNA-siLuc.bam  RPF-siLin28a.bam  \\\n",
              "Geneid                                                                     \n",
              "ENSMUSG00000033845.14              3022           2563              1859   \n",
              "ENSMUSG00000033813.16              2130           2225               328   \n",
              "ENSMUSG00000033793.13              1260           1031               603   \n",
              "ENSMUSG00000025907.15               694            903               132   \n",
              "ENSMUSG00000051285.18              2360           1775               208   \n",
              "\n",
              "                       RPF-siLuc.bam  clip_enrichment  rden_change  \n",
              "Geneid                                                              \n",
              "ENSMUSG00000033845.14           3191         2.962362     0.494091  \n",
              "ENSMUSG00000033813.16            609         2.175853     0.562609  \n",
              "ENSMUSG00000033793.13           1128         2.343882     0.437418  \n",
              "ENSMUSG00000025907.15            251         5.428571     0.684272  \n",
              "ENSMUSG00000051285.18            138         6.631380     1.133628  "
            ],
            "text/html": [
              "\n",
              "  <div id=\"df-e8152254-4183-456c-9c15-0cefcfd08d52\">\n",
              "    <div class=\"colab-df-container\">\n",
              "      <div>\n",
              "<style scoped>\n",
              "    .dataframe tbody tr th:only-of-type {\n",
              "        vertical-align: middle;\n",
              "    }\n",
              "\n",
              "    .dataframe tbody tr th {\n",
              "        vertical-align: top;\n",
              "    }\n",
              "\n",
              "    .dataframe thead th {\n",
              "        text-align: right;\n",
              "    }\n",
              "</style>\n",
              "<table border=\"1\" class=\"dataframe\">\n",
              "  <thead>\n",
              "    <tr style=\"text-align: right;\">\n",
              "      <th></th>\n",
              "      <th>Chr</th>\n",
              "      <th>Start</th>\n",
              "      <th>End</th>\n",
              "      <th>Strand</th>\n",
              "      <th>Length</th>\n",
              "      <th>CLIP-35L33G.bam</th>\n",
              "      <th>RNA-control.bam</th>\n",
              "      <th>RNA-siLin28a.bam</th>\n",
              "      <th>RNA-siLuc.bam</th>\n",
              "      <th>RPF-siLin28a.bam</th>\n",
              "      <th>RPF-siLuc.bam</th>\n",
              "      <th>clip_enrichment</th>\n",
              "      <th>rden_change</th>\n",
              "    </tr>\n",
              "    <tr>\n",
              "      <th>Geneid</th>\n",
              "      <th></th>\n",
              "      <th></th>\n",
              "      <th></th>\n",
              "      <th></th>\n",
              "      <th></th>\n",
              "      <th></th>\n",
              "      <th></th>\n",
              "      <th></th>\n",
              "      <th></th>\n",
              "      <th></th>\n",
              "      <th></th>\n",
              "      <th></th>\n",
              "      <th></th>\n",
              "    </tr>\n",
              "  </thead>\n",
              "  <tbody>\n",
              "    <tr>\n",
              "      <th>ENSMUSG00000033845.14</th>\n",
              "      <td>chr1;chr1;chr1;chr1;chr1;chr1;chr1;chr1;chr1;c...</td>\n",
              "      <td>4843429;4843434;4844659;4846600;4847748;484774...</td>\n",
              "      <td>4844739;4847024;4844739;4847024;4847871;484787...</td>\n",
              "      <td>-;-;-;-;-;-;-;-;-;-;-;-;-;-;-;-;-;-;-;-;-;-;-;...</td>\n",
              "      <td>8487</td>\n",
              "      <td>4014</td>\n",
              "      <td>1355</td>\n",
              "      <td>3022</td>\n",
              "      <td>2563</td>\n",
              "      <td>1859</td>\n",
              "      <td>3191</td>\n",
              "      <td>2.962362</td>\n",
              "      <td>0.494091</td>\n",
              "    </tr>\n",
              "    <tr>\n",
              "      <th>ENSMUSG00000033813.16</th>\n",
              "      <td>chr1;chr1;chr1;chr1;chr1;chr1;chr1;chr1;chr1;c...</td>\n",
              "      <td>4928037;4928261;4937693;4937693;4948250;494825...</td>\n",
              "      <td>4928199;4928726;4937755;4937755;4948355;494835...</td>\n",
              "      <td>+;+;+;+;+;+;+;+;+;+;+;+;+;+;+;+;+;+;+;+</td>\n",
              "      <td>3017</td>\n",
              "      <td>1658</td>\n",
              "      <td>762</td>\n",
              "      <td>2130</td>\n",
              "      <td>2225</td>\n",
              "      <td>328</td>\n",
              "      <td>609</td>\n",
              "      <td>2.175853</td>\n",
              "      <td>0.562609</td>\n",
              "    </tr>\n",
              "    <tr>\n",
              "      <th>ENSMUSG00000033793.13</th>\n",
              "      <td>chr1;chr1;chr1;chr1;chr1;chr1;chr1;chr1;chr1;c...</td>\n",
              "      <td>5140241;5153303;5153333;5153347;5153355;515335...</td>\n",
              "      <td>5140367;5153501;5153848;5153501;5153501;515350...</td>\n",
              "      <td>+;+;+;+;+;+;+;+;+;+;+;+;+;+;+;+;+;+;+;+;+;+;+;...</td>\n",
              "      <td>9746</td>\n",
              "      <td>1111</td>\n",
              "      <td>474</td>\n",
              "      <td>1260</td>\n",
              "      <td>1031</td>\n",
              "      <td>603</td>\n",
              "      <td>1128</td>\n",
              "      <td>2.343882</td>\n",
              "      <td>0.437418</td>\n",
              "    </tr>\n",
              "    <tr>\n",
              "      <th>ENSMUSG00000025907.15</th>\n",
              "      <td>chr1;chr1;chr1;chr1;chr1;chr1;chr1;chr1;chr1;c...</td>\n",
              "      <td>6276421;6276451;6284869;6284887;6285232;629382...</td>\n",
              "      <td>6276494;6276494;6285181;6285181;6285476;629396...</td>\n",
              "      <td>+;+;+;+;+;+;+;+;+;+;+;+;+;+;+;+;+;+;+;+;+;+;+;...</td>\n",
              "      <td>14690</td>\n",
              "      <td>1520</td>\n",
              "      <td>280</td>\n",
              "      <td>694</td>\n",
              "      <td>903</td>\n",
              "      <td>132</td>\n",
              "      <td>251</td>\n",
              "      <td>5.428571</td>\n",
              "      <td>0.684272</td>\n",
              "    </tr>\n",
              "    <tr>\n",
              "      <th>ENSMUSG00000051285.18</th>\n",
              "      <td>chr1;chr1;chr1;chr1;chr1;chr1;chr1;chr1;chr1;c...</td>\n",
              "      <td>7159144;7159154;7159328;7159390;7190418;721786...</td>\n",
              "      <td>7159440;7159440;7159440;7159440;7190839;721796...</td>\n",
              "      <td>+;+;+;+;+;+;+;+;+;+;+;+;+;+;+;+;+;+;+;+;+;+;+;...</td>\n",
              "      <td>6654</td>\n",
              "      <td>3508</td>\n",
              "      <td>529</td>\n",
              "      <td>2360</td>\n",
              "      <td>1775</td>\n",
              "      <td>208</td>\n",
              "      <td>138</td>\n",
              "      <td>6.631380</td>\n",
              "      <td>1.133628</td>\n",
              "    </tr>\n",
              "  </tbody>\n",
              "</table>\n",
              "</div>\n",
              "      <button class=\"colab-df-convert\" onclick=\"convertToInteractive('df-e8152254-4183-456c-9c15-0cefcfd08d52')\"\n",
              "              title=\"Convert this dataframe to an interactive table.\"\n",
              "              style=\"display:none;\">\n",
              "        \n",
              "  <svg xmlns=\"http://www.w3.org/2000/svg\" height=\"24px\"viewBox=\"0 0 24 24\"\n",
              "       width=\"24px\">\n",
              "    <path d=\"M0 0h24v24H0V0z\" fill=\"none\"/>\n",
              "    <path d=\"M18.56 5.44l.94 2.06.94-2.06 2.06-.94-2.06-.94-.94-2.06-.94 2.06-2.06.94zm-11 1L8.5 8.5l.94-2.06 2.06-.94-2.06-.94L8.5 2.5l-.94 2.06-2.06.94zm10 10l.94 2.06.94-2.06 2.06-.94-2.06-.94-.94-2.06-.94 2.06-2.06.94z\"/><path d=\"M17.41 7.96l-1.37-1.37c-.4-.4-.92-.59-1.43-.59-.52 0-1.04.2-1.43.59L10.3 9.45l-7.72 7.72c-.78.78-.78 2.05 0 2.83L4 21.41c.39.39.9.59 1.41.59.51 0 1.02-.2 1.41-.59l7.78-7.78 2.81-2.81c.8-.78.8-2.07 0-2.86zM5.41 20L4 18.59l7.72-7.72 1.47 1.35L5.41 20z\"/>\n",
              "  </svg>\n",
              "      </button>\n",
              "      \n",
              "  <style>\n",
              "    .colab-df-container {\n",
              "      display:flex;\n",
              "      flex-wrap:wrap;\n",
              "      gap: 12px;\n",
              "    }\n",
              "\n",
              "    .colab-df-convert {\n",
              "      background-color: #E8F0FE;\n",
              "      border: none;\n",
              "      border-radius: 50%;\n",
              "      cursor: pointer;\n",
              "      display: none;\n",
              "      fill: #1967D2;\n",
              "      height: 32px;\n",
              "      padding: 0 0 0 0;\n",
              "      width: 32px;\n",
              "    }\n",
              "\n",
              "    .colab-df-convert:hover {\n",
              "      background-color: #E2EBFA;\n",
              "      box-shadow: 0px 1px 2px rgba(60, 64, 67, 0.3), 0px 1px 3px 1px rgba(60, 64, 67, 0.15);\n",
              "      fill: #174EA6;\n",
              "    }\n",
              "\n",
              "    [theme=dark] .colab-df-convert {\n",
              "      background-color: #3B4455;\n",
              "      fill: #D2E3FC;\n",
              "    }\n",
              "\n",
              "    [theme=dark] .colab-df-convert:hover {\n",
              "      background-color: #434B5C;\n",
              "      box-shadow: 0px 1px 3px 1px rgba(0, 0, 0, 0.15);\n",
              "      filter: drop-shadow(0px 1px 2px rgba(0, 0, 0, 0.3));\n",
              "      fill: #FFFFFF;\n",
              "    }\n",
              "  </style>\n",
              "\n",
              "      <script>\n",
              "        const buttonEl =\n",
              "          document.querySelector('#df-e8152254-4183-456c-9c15-0cefcfd08d52 button.colab-df-convert');\n",
              "        buttonEl.style.display =\n",
              "          google.colab.kernel.accessAllowed ? 'block' : 'none';\n",
              "\n",
              "        async function convertToInteractive(key) {\n",
              "          const element = document.querySelector('#df-e8152254-4183-456c-9c15-0cefcfd08d52');\n",
              "          const dataTable =\n",
              "            await google.colab.kernel.invokeFunction('convertToInteractive',\n",
              "                                                     [key], {});\n",
              "          if (!dataTable) return;\n",
              "\n",
              "          const docLinkHtml = 'Like what you see? Visit the ' +\n",
              "            '<a target=\"_blank\" href=https://colab.research.google.com/notebooks/data_table.ipynb>data table notebook</a>'\n",
              "            + ' to learn more about interactive tables.';\n",
              "          element.innerHTML = '';\n",
              "          dataTable['output_type'] = 'display_data';\n",
              "          await google.colab.output.renderOutput(dataTable, element);\n",
              "          const docLink = document.createElement('div');\n",
              "          docLink.innerHTML = docLinkHtml;\n",
              "          element.appendChild(docLink);\n",
              "        }\n",
              "      </script>\n",
              "    </div>\n",
              "  </div>\n",
              "  "
            ]
          },
          "metadata": {},
          "execution_count": 55
        }
      ]
    },
    {
      "cell_type": "code",
      "source": [
        "cnts1.head()"
      ],
      "metadata": {
        "id": "tUcRqzOisu2j"
      },
      "execution_count": null,
      "outputs": []
    },
    {
      "cell_type": "code",
      "source": [
        "from matplotlib import pyplot as plt\n",
        "import numpy as np\n",
        "\n",
        "fig, ax = plt.subplots(1, 1, figsize=(6, 5))\n",
        "ax.scatter(np.log2(cnts1['clip_enrichment']),\n",
        "           np.log2(cnts1['rden_change']), alpha =0.1, s = 4)\n",
        "plt.xlim([-6,7])\n",
        "plt.ylim()"
      ],
      "metadata": {
        "colab": {
          "base_uri": "https://localhost:8080/",
          "height": 375
        },
        "id": "NaEGHBMHtSNT",
        "outputId": "2d3596c5-0c17-4fdf-c585-9385ed9a9ad5"
      },
      "execution_count": 61,
      "outputs": [
        {
          "output_type": "stream",
          "name": "stderr",
          "text": [
            "/usr/local/lib/python3.7/dist-packages/pandas/core/arraylike.py:364: RuntimeWarning: divide by zero encountered in log2\n",
            "  result = getattr(ufunc, method)(*inputs, **kwargs)\n"
          ]
        },
        {
          "output_type": "execute_result",
          "data": {
            "text/plain": [
              "(-6.0, 7.0)"
            ]
          },
          "metadata": {},
          "execution_count": 61
        },
        {
          "output_type": "display_data",
          "data": {
            "text/plain": [
              "<Figure size 432x360 with 1 Axes>"
            ],
            "image/png": "[encoded data removed]"
          },
          "metadata": {
            "needs_background": "light"
          }
        }
      ]
    },
    {
      "cell_type": "code",
      "execution_count": 37,
      "metadata": {
        "id": "vU3ce_HEFALl",
        "colab": {
          "base_uri": "https://localhost:8080/",
          "height": 375
        },
        "outputId": "9e5259df-f24e-4c8f-be49-21afa9590e07"
      },
      "outputs": [
        {
          "output_type": "stream",
          "name": "stderr",
          "text": [
            "/usr/local/lib/python3.7/dist-packages/pandas/core/arraylike.py:364: RuntimeWarning: divide by zero encountered in log2\n",
            "  result = getattr(ufunc, method)(*inputs, **kwargs)\n"
          ]
        },
        {
          "output_type": "execute_result",
          "data": {
            "text/plain": [
              "<matplotlib.collections.PathCollection at 0x7f1f8dcc62d0>"
            ]
          },
          "metadata": {},
          "execution_count": 37
        },
        {
          "output_type": "display_data",
          "data": {
            "text/plain": [
              "<Figure size 360x360 with 1 Axes>"
            ],
            "image/png": "[encoded data removed]"
          },
          "metadata": {
            "needs_background": "light"
          }
        }
      ],
      "source": [
        "from matplotlib import pyplot as plt\n",
        "import numpy as np\n",
        "\n",
        "fig, ax = plt.subplots(1, 1, figsize=(5, 5))\n",
        "ax.scatter(np.log2(cnts['clip_enrichment']),\n",
        "           np.log2(cnts['rden_change']))"
      ]
    },
    {
      "cell_type": "code",
      "source": [
        ""
      ],
      "metadata": {
        "id": "aGbPl9VutRaW"
      },
      "execution_count": null,
      "outputs": []
    },
    {
      "cell_type": "code",
      "source": [
        ""
      ],
      "metadata": {
        "id": "4RPMy0wAsCLs"
      },
      "execution_count": null,
      "outputs": []
    },
    {
      "cell_type": "markdown",
      "metadata": {
        "id": "ksVjIL10mV_v"
      },
      "source": [
        "이 그림에는 문제가 많이 있습니다. 논문의 그림처럼 한 번 만들어 봅시다~"
      ]
    },
    {
      "cell_type": "code",
      "execution_count": 9,
      "metadata": {
        "id": "RZ-EV3s5X3u5",
        "colab": {
          "base_uri": "https://localhost:8080/",
          "height": 248
        },
        "outputId": "469c376e-a261-4af2-a824-61f6bd436cfc"
      },
      "outputs": [
        {
          "output_type": "error",
          "ename": "TypeError",
          "evalue": "ignored",
          "traceback": [
            "\u001b[0;31m---------------------------------------------------------------------------\u001b[0m",
            "\u001b[0;31mTypeError\u001b[0m                                 Traceback (most recent call last)",
            "\u001b[0;32m<ipython-input-9-ca7d03b7ef05>\u001b[0m in \u001b[0;36m<module>\u001b[0;34m()\u001b[0m\n\u001b[1;32m      1\u001b[0m \u001b[0;32mfrom\u001b[0m \u001b[0mmatplotlib\u001b[0m \u001b[0;32mimport\u001b[0m \u001b[0mpyplot\u001b[0m \u001b[0;32mas\u001b[0m \u001b[0mplt\u001b[0m\u001b[0;34m\u001b[0m\u001b[0;34m\u001b[0m\u001b[0m\n\u001b[1;32m      2\u001b[0m \u001b[0;32mimport\u001b[0m \u001b[0mnumpy\u001b[0m \u001b[0;32mas\u001b[0m \u001b[0mnp\u001b[0m\u001b[0;34m\u001b[0m\u001b[0;34m\u001b[0m\u001b[0m\n\u001b[0;32m----> 3\u001b[0;31m \u001b[0mfig\u001b[0m\u001b[0;34m,\u001b[0m \u001b[0max\u001b[0m \u001b[0;34m=\u001b[0m \u001b[0mplt\u001b[0m\u001b[0;34m.\u001b[0m\u001b[0mfigure\u001b[0m\u001b[0;34m(\u001b[0m\u001b[0;34m)\u001b[0m\u001b[0;34m\u001b[0m\u001b[0;34m\u001b[0m\u001b[0m\n\u001b[0m\u001b[1;32m      4\u001b[0m \u001b[0mfig\u001b[0m\u001b[0;34m.\u001b[0m\u001b[0madd_subplot\u001b[0m\u001b[0;34m(\u001b[0m\u001b[0;36m111\u001b[0m\u001b[0;34m)\u001b[0m\u001b[0;34m\u001b[0m\u001b[0;34m\u001b[0m\u001b[0m\n",
            "\u001b[0;31mTypeError\u001b[0m: cannot unpack non-iterable Figure object"
          ]
        },
        {
          "output_type": "display_data",
          "data": {
            "text/plain": [
              "<Figure size 432x288 with 0 Axes>"
            ]
          },
          "metadata": {}
        }
      ],
      "source": [
        "from matplotlib import pyplot as plt\n",
        "import numpy as np\n",
        "fig, ax = plt.figure()\n",
        "fig.add_subplot(111)"
      ]
    },
    {
      "cell_type": "markdown",
      "metadata": {
        "id": "sf6EJJ60Qbxg"
      },
      "source": [
        "## Protein localization 반영하기\n",
        "\n",
        "논문 그림에서는 protein localization을 반영해서 색으로 나타냈습니다. 이것을 한 번 구현해 봅시다. 각 gene product의 localization을 따로 구하려면 좀 귀찮기 때문에 미리 모아 두었습니다. UniProt에서 매핑된 데이터를 토대로 아주 명확한 것만 일부 정리한 것입니다. 이것도 마찬가지로 처음엔 에러가 나기도 하니까, 다시 실행해보면 거의 잘 됩니다~"
      ]
    },
    {
      "cell_type": "code",
      "execution_count": null,
      "metadata": {
        "id": "ivb1q7_f-gl4",
        "colab": {
          "base_uri": "https://localhost:8080/",
          "height": 206
        },
        "outputId": "b822869c-3fd0-47d9-baf4-e4dc0eafdfbe"
      },
      "outputs": [
        {
          "output_type": "execute_result",
          "data": {
            "text/plain": [
              "              gene_id            Gene names       type\n",
              "0  ENSMUSG00000000001                 Gnai3  cytoplasm\n",
              "1  ENSMUSG00000000028  Cdc45 Cdc45l Cdc45l2    nucleus\n",
              "2  ENSMUSG00000000049            Apoh B2gp1  cytoplasm\n",
              "3  ENSMUSG00000000058                  Cav2  cytoplasm\n",
              "4  ENSMUSG00000000085                 Scmh1    nucleus"
            ],
            "text/html": [
              "\n",
              "  <div id=\"df-1282566b-f415-44b2-849b-51877a547f03\">\n",
              "    <div class=\"colab-df-container\">\n",
              "      <div>\n",
              "<style scoped>\n",
              "    .dataframe tbody tr th:only-of-type {\n",
              "        vertical-align: middle;\n",
              "    }\n",
              "\n",
              "    .dataframe tbody tr th {\n",
              "        vertical-align: top;\n",
              "    }\n",
              "\n",
              "    .dataframe thead th {\n",
              "        text-align: right;\n",
              "    }\n",
              "</style>\n",
              "<table border=\"1\" class=\"dataframe\">\n",
              "  <thead>\n",
              "    <tr style=\"text-align: right;\">\n",
              "      <th></th>\n",
              "      <th>gene_id</th>\n",
              "      <th>Gene names</th>\n",
              "      <th>type</th>\n",
              "    </tr>\n",
              "  </thead>\n",
              "  <tbody>\n",
              "    <tr>\n",
              "      <th>0</th>\n",
              "      <td>ENSMUSG00000000001</td>\n",
              "      <td>Gnai3</td>\n",
              "      <td>cytoplasm</td>\n",
              "    </tr>\n",
              "    <tr>\n",
              "      <th>1</th>\n",
              "      <td>ENSMUSG00000000028</td>\n",
              "      <td>Cdc45 Cdc45l Cdc45l2</td>\n",
              "      <td>nucleus</td>\n",
              "    </tr>\n",
              "    <tr>\n",
              "      <th>2</th>\n",
              "      <td>ENSMUSG00000000049</td>\n",
              "      <td>Apoh B2gp1</td>\n",
              "      <td>cytoplasm</td>\n",
              "    </tr>\n",
              "    <tr>\n",
              "      <th>3</th>\n",
              "      <td>ENSMUSG00000000058</td>\n",
              "      <td>Cav2</td>\n",
              "      <td>cytoplasm</td>\n",
              "    </tr>\n",
              "    <tr>\n",
              "      <th>4</th>\n",
              "      <td>ENSMUSG00000000085</td>\n",
              "      <td>Scmh1</td>\n",
              "      <td>nucleus</td>\n",
              "    </tr>\n",
              "  </tbody>\n",
              "</table>\n",
              "</div>\n",
              "      <button class=\"colab-df-convert\" onclick=\"convertToInteractive('df-1282566b-f415-44b2-849b-51877a547f03')\"\n",
              "              title=\"Convert this dataframe to an interactive table.\"\n",
              "              style=\"display:none;\">\n",
              "        \n",
              "  <svg xmlns=\"http://www.w3.org/2000/svg\" height=\"24px\"viewBox=\"0 0 24 24\"\n",
              "       width=\"24px\">\n",
              "    <path d=\"M0 0h24v24H0V0z\" fill=\"none\"/>\n",
              "    <path d=\"M18.56 5.44l.94 2.06.94-2.06 2.06-.94-2.06-.94-.94-2.06-.94 2.06-2.06.94zm-11 1L8.5 8.5l.94-2.06 2.06-.94-2.06-.94L8.5 2.5l-.94 2.06-2.06.94zm10 10l.94 2.06.94-2.06 2.06-.94-2.06-.94-.94-2.06-.94 2.06-2.06.94z\"/><path d=\"M17.41 7.96l-1.37-1.37c-.4-.4-.92-.59-1.43-.59-.52 0-1.04.2-1.43.59L10.3 9.45l-7.72 7.72c-.78.78-.78 2.05 0 2.83L4 21.41c.39.39.9.59 1.41.59.51 0 1.02-.2 1.41-.59l7.78-7.78 2.81-2.81c.8-.78.8-2.07 0-2.86zM5.41 20L4 18.59l7.72-7.72 1.47 1.35L5.41 20z\"/>\n",
              "  </svg>\n",
              "      </button>\n",
              "      \n",
              "  <style>\n",
              "    .colab-df-container {\n",
              "      display:flex;\n",
              "      flex-wrap:wrap;\n",
              "      gap: 12px;\n",
              "    }\n",
              "\n",
              "    .colab-df-convert {\n",
              "      background-color: #E8F0FE;\n",
              "      border: none;\n",
              "      border-radius: 50%;\n",
              "      cursor: pointer;\n",
              "      display: none;\n",
              "      fill: #1967D2;\n",
              "      height: 32px;\n",
              "      padding: 0 0 0 0;\n",
              "      width: 32px;\n",
              "    }\n",
              "\n",
              "    .colab-df-convert:hover {\n",
              "      background-color: #E2EBFA;\n",
              "      box-shadow: 0px 1px 2px rgba(60, 64, 67, 0.3), 0px 1px 3px 1px rgba(60, 64, 67, 0.15);\n",
              "      fill: #174EA6;\n",
              "    }\n",
              "\n",
              "    [theme=dark] .colab-df-convert {\n",
              "      background-color: #3B4455;\n",
              "      fill: #D2E3FC;\n",
              "    }\n",
              "\n",
              "    [theme=dark] .colab-df-convert:hover {\n",
              "      background-color: #434B5C;\n",
              "      box-shadow: 0px 1px 3px 1px rgba(0, 0, 0, 0.15);\n",
              "      filter: drop-shadow(0px 1px 2px rgba(0, 0, 0, 0.3));\n",
              "      fill: #FFFFFF;\n",
              "    }\n",
              "  </style>\n",
              "\n",
              "      <script>\n",
              "        const buttonEl =\n",
              "          document.querySelector('#df-1282566b-f415-44b2-849b-51877a547f03 button.colab-df-convert');\n",
              "        buttonEl.style.display =\n",
              "          google.colab.kernel.accessAllowed ? 'block' : 'none';\n",
              "\n",
              "        async function convertToInteractive(key) {\n",
              "          const element = document.querySelector('#df-1282566b-f415-44b2-849b-51877a547f03');\n",
              "          const dataTable =\n",
              "            await google.colab.kernel.invokeFunction('convertToInteractive',\n",
              "                                                     [key], {});\n",
              "          if (!dataTable) return;\n",
              "\n",
              "          const docLinkHtml = 'Like what you see? Visit the ' +\n",
              "            '<a target=\"_blank\" href=https://colab.research.google.com/notebooks/data_table.ipynb>data table notebook</a>'\n",
              "            + ' to learn more about interactive tables.';\n",
              "          element.innerHTML = '';\n",
              "          dataTable['output_type'] = 'display_data';\n",
              "          await google.colab.output.renderOutput(dataTable, element);\n",
              "          const docLink = document.createElement('div');\n",
              "          docLink.innerHTML = docLinkHtml;\n",
              "          element.appendChild(docLink);\n",
              "        }\n",
              "      </script>\n",
              "    </div>\n",
              "  </div>\n",
              "  "
            ]
          },
          "metadata": {},
          "execution_count": 32
        }
      ],
      "source": [
        "import ssl\n",
        "ssl._create_default_https_context = ssl._create_unverified_context\n",
        "mouselocal = pd.read_csv('https://hyeshik.qbio.io/binfo/mouselocalization-20210507.txt', sep='\\t')\n",
        "mouselocal.head()"
      ]
    },
    {
      "cell_type": "markdown",
      "metadata": {
        "id": "Q9vgSzeiQxDU"
      },
      "source": [
        "이제 이 localization 데이터와 위에서 만든 scatter를 결합해서 논문 그림과 비슷하게 만들어 봅시다."
      ]
    },
    {
      "cell_type": "code",
      "execution_count": null,
      "metadata": {
        "id": "aPPW73t4X3pp"
      },
      "outputs": [],
      "source": [
        ""
      ]
    }
  ],
  "metadata": {
    "colab": {
      "collapsed_sections": [],
      "name": "CoLab_TermProj.ipynb",
      "provenance": [],
      "include_colab_link": true
    },
    "kernelspec": {
      "display_name": "Python 3",
      "name": "python3"
    }
  },
  "nbformat": 4,
  "nbformat_minor": 0
}